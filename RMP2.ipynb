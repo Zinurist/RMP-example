{
 "cells": [
  {
   "cell_type": "code",
   "execution_count": null,
   "metadata": {},
   "outputs": [],
   "source": [
    "from spaces import *\n",
    "import graph_utils\n",
    "%reload_ext autoreload\n",
    "%autoreload 2\n",
    "                \n",
    "space = PolygonSpace(2)\n",
    "space.add_polygon([(0.3, 0.0), (0.7, 0.0), (0.7, 0.7), (0.3, 0.7), (0.3, 0.0)])\n",
    "\n",
    "start = (0.2, 0.3)\n",
    "goal = (0.8, 0.3)\n",
    "\n",
    "searcher = graph_utils.SingleQuery()"
   ]
  },
  {
   "cell_type": "code",
   "execution_count": null,
   "metadata": {},
   "outputs": [],
   "source": [
    "_=space.display()"
   ]
  },
  {
   "cell_type": "code",
   "execution_count": null,
   "metadata": {},
   "outputs": [],
   "source": [
    "path = searcher.search_path(space, start, goal, animate=False)\n",
    "_=space.display(empty_lists=True)"
   ]
  }
 ],
 "metadata": {
  "kernelspec": {
   "display_name": "Python 3",
   "language": "python",
   "name": "python3"
  },
  "language_info": {
   "codemirror_mode": {
    "name": "ipython",
    "version": 3
   },
   "file_extension": ".py",
   "mimetype": "text/x-python",
   "name": "python",
   "nbconvert_exporter": "python",
   "pygments_lexer": "ipython3",
   "version": "3.5.3"
  }
 },
 "nbformat": 4,
 "nbformat_minor": 2
}
