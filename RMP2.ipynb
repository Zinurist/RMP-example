{
 "cells": [
  {
   "cell_type": "code",
   "execution_count": null,
   "metadata": {},
   "outputs": [],
   "source": [
    "from spaces import *\n",
    "import graph_utils\n",
    "import random\n",
    "%reload_ext autoreload\n",
    "%autoreload 2\n",
    "                \n",
    "space = PolygonSpace(2)\n",
    "space.add_polygon([(0.3, 0.1), (0.35, 0.1), (0.35, 0.7), (0.3, 0.7), (0.3, 0.1)])\n",
    "#random one\n",
    "num_points = 4#random.randint(4, 8)\n",
    "points = []\n",
    "for i in range(num_points):\n",
    "    points.append((0.4 + random.random()*0.5, 0.05+ random.random()*0.9))\n",
    "points.append(points[0])\n",
    "space.add_polygon(points)\n",
    "\n",
    "start = (0.1, 0.1)\n",
    "goal = (0.95, 0.95)\n"
   ]
  },
  {
   "cell_type": "code",
   "execution_count": null,
   "metadata": {},
   "outputs": [],
   "source": [
    "_=space.display()"
   ]
  },
  {
   "cell_type": "code",
   "execution_count": null,
   "metadata": {},
   "outputs": [],
   "source": [
    "path = graph_utils.SingleQuery().search_path(space, start, goal, animate=False)\n",
    "space.draw_path(path)\n",
    "_=space.display(empty_lists=True)"
   ]
  },
  {
   "cell_type": "code",
   "execution_count": null,
   "metadata": {},
   "outputs": [],
   "source": [
    "path = graph_utils.Bug2().search_path(space, start, goal)\n",
    "space.draw_path(path)\n",
    "_=space.display(empty_lists=True)"
   ]
  },
  {
   "cell_type": "code",
   "execution_count": null,
   "metadata": {},
   "outputs": [],
   "source": [
    "path = graph_utils.Bug0().search_path(space, start, goal)\n",
    "space.draw_path(path)\n",
    "_=space.display(empty_lists=True)"
   ]
  }
 ],
 "metadata": {
  "kernelspec": {
   "display_name": "Python 3",
   "language": "python",
   "name": "python3"
  },
  "language_info": {
   "codemirror_mode": {
    "name": "ipython",
    "version": 3
   },
   "file_extension": ".py",
   "mimetype": "text/x-python",
   "name": "python",
   "nbconvert_exporter": "python",
   "pygments_lexer": "ipython3",
   "version": "3.5.3"
  }
 },
 "nbformat": 4,
 "nbformat_minor": 2
}
