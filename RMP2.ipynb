{
 "cells": [
  {
   "cell_type": "code",
   "execution_count": null,
   "metadata": {},
   "outputs": [],
   "source": [
    "from spaces import *\n",
    "import graph_utils\n",
    "import random\n",
    "%reload_ext autoreload\n",
    "%autoreload 2\n",
    "\n",
    "#random polygons\n",
    "def random_polygon(num_points, x, w, y, h):\n",
    "    points = []\n",
    "    for i in range(num_points):\n",
    "        points.append((x + random.random()*w, y+ random.random()*h))\n",
    "    points.append(points[0])\n",
    "    return points\n",
    "print(\"NOTE: random polygons (with >3 vertices) aren't necessarily concave/convex!\")\n",
    "                \n",
    "space = PolygonSpace(2)\n",
    "#space.add_polygon([(0.3, 0.1), (0.35, 0.1), (0.35, 0.7), (0.3, 0.7), (0.3, 0.1)])\n",
    "space.add_polygon(random_polygon(3, 0.1, 0.3, 0.1, 0.5))\n",
    "space.add_polygon(random_polygon(3, 0.4, 0.5, 0.1, 0.4))\n",
    "space.add_polygon(random_polygon(3, 0.4, 0.5, 0.5, 0.4))\n",
    "\n",
    "\n",
    "start = (0.05, 0.05)\n",
    "goal = (0.95, 0.95)\n"
   ]
  },
  {
   "cell_type": "code",
   "execution_count": null,
   "metadata": {},
   "outputs": [],
   "source": [
    "_=space.display(path='poly_ex.png')"
   ]
  },
  {
   "cell_type": "code",
   "execution_count": null,
   "metadata": {},
   "outputs": [],
   "source": [
    "path = graph_utils.SingleQuery().search_path(space, start, goal, animate=False)\n",
    "space.draw_path(path)\n",
    "_=space.display(empty_lists=True, path='poly_sq.png')"
   ]
  },
  {
   "cell_type": "code",
   "execution_count": null,
   "metadata": {},
   "outputs": [],
   "source": [
    "path = graph_utils.Bug2().search_path(space, start, goal)\n",
    "space.draw_path(path)\n",
    "_=space.display(empty_lists=True, path='poly_bug2.png')"
   ]
  },
  {
   "cell_type": "code",
   "execution_count": null,
   "metadata": {},
   "outputs": [],
   "source": [
    "path = graph_utils.Bug0().search_path(space, start, goal)\n",
    "space.draw_path(path)\n",
    "_=space.display(empty_lists=True, path='poly_bug0.png')"
   ]
  },
  {
   "cell_type": "code",
   "execution_count": null,
   "metadata": {},
   "outputs": [],
   "source": [
    "vis_graph = graph_utils.VisibilityGraph()\n",
    "path = vis_graph.search_path(space, start, goal)\n",
    "space.draw_path(path)\n",
    "_=space.display(empty_lists=True, path='poly_bug0.png')"
   ]
  },
  {
   "cell_type": "code",
   "execution_count": null,
   "metadata": {},
   "outputs": [],
   "source": [
    "_=vis_graph.display(space, path='poly_vis.png')"
   ]
  }
 ],
 "metadata": {
  "kernelspec": {
   "display_name": "Python 3",
   "language": "python",
   "name": "python3"
  },
  "language_info": {
   "codemirror_mode": {
    "name": "ipython",
    "version": 3
   },
   "file_extension": ".py",
   "mimetype": "text/x-python",
   "name": "python",
   "nbconvert_exporter": "python",
   "pygments_lexer": "ipython3",
   "version": "3.5.3"
  }
 },
 "nbformat": 4,
 "nbformat_minor": 2
}
