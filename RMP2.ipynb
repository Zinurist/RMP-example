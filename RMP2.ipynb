{
 "cells": [
  {
   "cell_type": "code",
   "execution_count": null,
   "metadata": {},
   "outputs": [],
   "source": [
    "from spaces import *\n",
    "import graph_utils\n",
    "import random\n",
    "%reload_ext autoreload\n",
    "%autoreload 2\n",
    "\n",
    "#random polygons\n",
    "def random_polygon(num_points, x, w, y, h):\n",
    "    points = []\n",
    "    for i in range(num_points):\n",
    "        points.append((x + random.random()*w, y+ random.random()*h))\n",
    "    points.append(points[0])\n",
    "    return points\n",
    "print(\"NOTE: random polygons (with >3 vertices) aren't necessarily concave/convex!\")\n",
    "                \n",
    "space = PolygonSpace(2)\n",
    "#space.add_polygon([(0.3, 0.1), (0.35, 0.1), (0.35, 0.7), (0.3, 0.7), (0.3, 0.1)])\n",
    "#space.add_polygon(random_polygon(3, 0.1, 0.3, 0.1, 0.5))\n",
    "#space.add_polygon(random_polygon(3, 0.4, 0.5, 0.1, 0.4))\n",
    "#space.add_polygon(random_polygon(3, 0.4, 0.5, 0.5, 0.4))\n",
    "\n",
    "space.add_polygon([(0.21, 0.13), (0.3, 0.15), (0.16, 0.5), (0.21, 0.13)])\n",
    "space.add_polygon([(0.52, 0.25), (0.83, 0.45), (0.4, 0.43), (0.52, 0.25)])\n",
    "space.add_polygon([(0.54, 0.51), (0.45, 0.6), (0.7, 0.9), (0.54, 0.51)])\n",
    "\n",
    "\n",
    "start = (0.05, 0.05)\n",
    "goal = (0.95, 0.95)\n"
   ]
  },
  {
   "cell_type": "code",
   "execution_count": null,
   "metadata": {},
   "outputs": [],
   "source": [
    "_=space.display(path='poly_ex.png')"
   ]
  },
  {
   "cell_type": "code",
   "execution_count": null,
   "metadata": {},
   "outputs": [],
   "source": [
    "path = graph_utils.SingleQuery().search_path(space, start, goal, animate=False)\n",
    "space.draw_path(path)\n",
    "_=space.display(empty_lists=True, path='poly_sq.png')"
   ]
  },
  {
   "cell_type": "code",
   "execution_count": null,
   "metadata": {},
   "outputs": [],
   "source": [
    "path = graph_utils.Bug2().search_path(space, start, goal)\n",
    "space.draw_path(path)\n",
    "_=space.display(empty_lists=True, path='poly_bug2.png')"
   ]
  },
  {
   "cell_type": "code",
   "execution_count": null,
   "metadata": {},
   "outputs": [],
   "source": [
    "path = graph_utils.Bug0().search_path(space, start, goal)\n",
    "space.draw_path(path)\n",
    "_=space.display(empty_lists=True, path='poly_bug0.png')"
   ]
  },
  {
   "cell_type": "code",
   "execution_count": null,
   "metadata": {},
   "outputs": [],
   "source": [
    "vis_graph = graph_utils.VisibilityGraph()\n",
    "path = vis_graph.search_path(space, start, goal)\n",
    "space.draw_path(path)\n",
    "_=space.display(empty_lists=True, path='poly_vis1.png')"
   ]
  },
  {
   "cell_type": "code",
   "execution_count": null,
   "metadata": {},
   "outputs": [],
   "source": [
    "_=vis_graph.display(space, path='poly_vis2.png')"
   ]
  },
  {
   "cell_type": "code",
   "execution_count": null,
   "metadata": {},
   "outputs": [],
   "source": [
    "voronoi = graph_utils.VoronoiDiagram()\n",
    "path = voronoi.search_path(space.to_grid_space([250,250]), start, goal)\n",
    "#space.draw_path(path)\n",
    "#_=space.display(empty_lists=True, path='poly_vor1.png')"
   ]
  },
  {
   "cell_type": "code",
   "execution_count": null,
   "metadata": {},
   "outputs": [],
   "source": [
    "_=voronoi.display(path='poly_vor2.png')"
   ]
  },
  {
   "cell_type": "code",
   "execution_count": null,
   "metadata": {},
   "outputs": [],
   "source": [
    "potfield = graph_utils.PotentialField(k_att=1, k_rep=0.1, rho_zero=0.1, step_size=1e-3)\n",
    "path = potfield.search_path(space, start, goal)"
   ]
  },
  {
   "cell_type": "code",
   "execution_count": null,
   "metadata": {},
   "outputs": [],
   "source": [
    "potfield.display_vector(space, goal, dims=[20,20], path='potfield1.png')"
   ]
  },
  {
   "cell_type": "code",
   "execution_count": null,
   "metadata": {},
   "outputs": [],
   "source": [
    "potfield.display_magnitude(space, goal, dims=[100,100], path='potfield2.png')"
   ]
  },
  {
   "cell_type": "code",
   "execution_count": null,
   "metadata": {},
   "outputs": [],
   "source": [
    "space.draw_path(path)\n",
    "_=space.display(empty_lists=True, path='poly_pot.png')"
   ]
  }
 ],
 "metadata": {
  "kernelspec": {
   "display_name": "Python 3",
   "language": "python",
   "name": "python3"
  },
  "language_info": {
   "codemirror_mode": {
    "name": "ipython",
    "version": 3
   },
   "file_extension": ".py",
   "mimetype": "text/x-python",
   "name": "python",
   "nbconvert_exporter": "python",
   "pygments_lexer": "ipython3",
   "version": "3.5.3"
  }
 },
 "nbformat": 4,
 "nbformat_minor": 2
}
