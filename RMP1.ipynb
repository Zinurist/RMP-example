{
 "cells": [
  {
   "cell_type": "code",
   "execution_count": null,
   "metadata": {
    "code_folding": []
   },
   "outputs": [],
   "source": [
    "from spaces import *\n",
    "import graph_utils\n",
    "%reload_ext autoreload\n",
    "%autoreload 2\n",
    "                \n",
    "space = GridSpace([100,100])\n",
    "space.add_rect(Rect(0., 0., 1.1, 0.1))\n",
    "space.add_rect(Rect(0.1, 0.18, 0.3, 0.15))\n",
    "space.add_rect(Rect(0.45, 0.41, 0.1, 0.4))\n",
    "space.add_rect(Rect(0.7, 0.18, 0.2, 0.15))\n",
    "space.checkpoint_vis()\n",
    "\n",
    "theta1_start, theta2_start = 0.1, 0.2\n",
    "theta1_end, theta2_end = 0.35, 0.3\n",
    "l1, l2 = 0.2, 0.2\n",
    "arm_start = Arm(theta1_start, theta2_start, l1, l2)\n",
    "arm_end = Arm(theta1_end, theta2_end, l1, l2)\n",
    "arm = Arm(0., 0., l1, l2)\n",
    "\n",
    "c_space = create_arm_c_space(space, arm, dims=space.dims)\n",
    "c_space.checkpoint_vis()\n",
    "\n",
    "space.add_arm(arm_start, mark=None, mark_vis=BLUE)\n",
    "space.add_arm(arm_end, mark=None, mark_vis=LIGHT_BLUE)\n",
    "\n",
    "searcher = graph_utils.SingleQuery()"
   ]
  },
  {
   "cell_type": "code",
   "execution_count": null,
   "metadata": {},
   "outputs": [],
   "source": [
    "c_space.reset_vis()\n",
    "path = searcher.search_path(c_space, (theta1_start, theta2_start), \n",
    "                           (theta1_end, theta2_end), animate=False)\n",
    "c_space.draw_point([theta1_start, theta2_start], color=BLUE)\n",
    "c_space.draw_point([theta1_end, theta2_end], color=LIGHT_BLUE)\n",
    "_=c_space.display('c_space.png')"
   ]
  },
  {
   "cell_type": "code",
   "execution_count": null,
   "metadata": {},
   "outputs": [],
   "source": [
    "_=space.display('space.png')      "
   ]
  },
  {
   "cell_type": "code",
   "execution_count": null,
   "metadata": {},
   "outputs": [],
   "source": [
    "space.animate_arm(arm_start, path, video_file='path.avi')"
   ]
  }
 ],
 "metadata": {
  "kernelspec": {
   "display_name": "Python 3",
   "language": "python",
   "name": "python3"
  },
  "language_info": {
   "codemirror_mode": {
    "name": "ipython",
    "version": 3
   },
   "file_extension": ".py",
   "mimetype": "text/x-python",
   "name": "python",
   "nbconvert_exporter": "python",
   "pygments_lexer": "ipython3",
   "version": "3.5.3"
  }
 },
 "nbformat": 4,
 "nbformat_minor": 2
}
